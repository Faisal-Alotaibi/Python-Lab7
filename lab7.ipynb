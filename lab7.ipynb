{
 "cells": [
  {
   "cell_type": "code",
   "execution_count": 36,
   "metadata": {},
   "outputs": [
    {
     "name": "stdout",
     "output_type": "stream",
     "text": [
      "Invalid input for number. Please enter a valid numeric number.\n",
      "Not a valid number\n",
      "Invalid input for number. Please enter a valid numeric number.\n",
      "Invalid input for number. Please enter a valid numeric number.\n",
      "This is the name: Amal\n"
     ]
    }
   ],
   "source": [
    "my_dict = {\n",
    "    'names':['Amal', 'Mohammed', 'Khadijah','Abdullah', 'Rawan', 'Faisal', 'Layla'],\n",
    "    'numbers':[1111111111, 2222222222, 3333333333, 4444444444, 5555555555, 6666666666, 7777777777]\n",
    "}\n",
    "\n",
    "while True:\n",
    "    try:\n",
    "        numInput = int(input(\"Enter the number: \"))\n",
    "        \n",
    "        if len(str(numInput))!=10:\n",
    "            print(\"Not a valid number\")\n",
    "        else:\n",
    "            numberList= my_dict.get(\"numbers\")\n",
    "            \n",
    "            i=0\n",
    "            for n in numberList:\n",
    "                \n",
    "                if n==numInput:\n",
    "                    print(\"This is the name: \"+my_dict.get(\"names\")[i])\n",
    "                    break;\n",
    "                elif i==len(numberList)-1:\n",
    "                    print(\"Number not found \"+str(numInput))          \n",
    "                i=i+1\n",
    "            break;\n",
    "    except ValueError:\n",
    "        print(\"Invalid input for number. Please enter a valid numeric number.\")"
   ]
  }
 ],
 "metadata": {
  "kernelspec": {
   "display_name": "Python 3",
   "language": "python",
   "name": "python3"
  },
  "language_info": {
   "codemirror_mode": {
    "name": "ipython",
    "version": 3
   },
   "file_extension": ".py",
   "mimetype": "text/x-python",
   "name": "python",
   "nbconvert_exporter": "python",
   "pygments_lexer": "ipython3",
   "version": "3.11.6"
  }
 },
 "nbformat": 4,
 "nbformat_minor": 2
}
